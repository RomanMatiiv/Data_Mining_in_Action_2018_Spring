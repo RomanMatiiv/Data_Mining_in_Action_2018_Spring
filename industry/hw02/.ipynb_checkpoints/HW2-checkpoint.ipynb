{
 "cells": [
  {
   "cell_type": "markdown",
   "metadata": {},
   "source": [
    "## Домашнее задание №2"
   ]
  },
  {
   "cell_type": "markdown",
   "metadata": {},
   "source": [
    "### Часть 1\n",
    "Нужно подобрать оптимальные параметры xgboost для набора данных <b>HR.csv</b> в папке второго семинара. Код для проверки качества представлен в скрипте <b>xgboost_params_checker.py</b>, а пример набора параметров в <b>xgboost_params_example.json</b>. Чекер с вашими параметрами должен отработать за 2 минуты на машинке для проверки. Для сравнения на xgboost_params_example.json чекер работает 20 секунд."
   ]
  },
  {
   "cell_type": "code",
   "execution_count": 2,
   "metadata": {},
   "outputs": [
    {
     "name": "stderr",
     "output_type": "stream",
     "text": [
      "/Users/roman/anaconda3/lib/python3.6/site-packages/sklearn/cross_validation.py:41: DeprecationWarning: This module was deprecated in version 0.18 in favor of the model_selection module into which all the refactored classes and functions are moved. Also note that the interface of the new CV iterators are different from that of this module. This module will be removed in 0.20.\n",
      "  \"This module will be removed in 0.20.\", DeprecationWarning)\n"
     ]
    }
   ],
   "source": [
    "from sklearn.model_selection import cross_val_score\n",
    "import os\n",
    "import json\n",
    "import sys\n",
    "import signal\n",
    "\n",
    "\n",
    "import pandas as pd\n",
    "import numpy as np\n",
    "from xgboost import XGBClassifier\n",
    "from sklearn.model_selection import GridSearchCV,RandomizedSearchCV\n",
    "\n",
    "import dask_searchcv as dcv\n",
    "from dask.diagnostics import ProgressBar\n",
    "\n",
    "\n",
    "\n",
    "PATH_TO_DATA=\"/Users/roman/DMIA/industry/seminar02/HR.csv\""
   ]
  },
  {
   "cell_type": "markdown",
   "metadata": {},
   "source": [
    "_____"
   ]
  },
  {
   "cell_type": "code",
   "execution_count": 3,
   "metadata": {},
   "outputs": [],
   "source": [
    "data=pd.read_csv(PATH_TO_DATA)\n",
    "\n",
    "X,y=data.drop(\"left\",axis=1),data[\"left\"]"
   ]
  },
  {
   "cell_type": "code",
   "execution_count": 4,
   "metadata": {},
   "outputs": [],
   "source": [
    "xgb=XGBClassifier(seed=42,nthread=-1)\n",
    "\n",
    "\n",
    "param_grid={\"learning_rate\": np.linspace(0.0008,0.001,20), \n",
    "            \"max_depth\": range(6,10), \n",
    "            \"n_estimators\": [3700], \n",
    "            \"min_child_weight\": [1,2,3,4,5],\n",
    "           }"
   ]
  },
  {
   "cell_type": "code",
   "execution_count": null,
   "metadata": {},
   "outputs": [],
   "source": [
    "#Считалось на google gloud\n",
    "\n",
    "#dcv.GridSearchCV в связке с with ProgressBar():search.fit(X,y) позволяют видеть прогресс бар\n",
    "\n",
    "search = dcv.GridSearchCV(xgb, param_grid,cv=3,n_jobs=-1,scoring='accuracy')\n",
    "\n",
    "with ProgressBar():\n",
    "    search.fit(X,y)"
   ]
  },
  {
   "cell_type": "code",
   "execution_count": 6,
   "metadata": {},
   "outputs": [
    {
     "data": {
      "text/plain": [
       "{'learning_rate': 0.0008810526315789474,\n",
       " 'max_depth': 8,\n",
       " 'min_child_weight': 1,\n",
       " 'n_estimators': 3200,\n",
       " 'seed': 42}"
      ]
     },
     "execution_count": 6,
     "metadata": {},
     "output_type": "execute_result"
    }
   ],
   "source": [
    "#search.best_params_\n",
    "{\n",
    "    \"learning_rate\": 0.00088105263157894732, \n",
    "    \"max_depth\": 8, \n",
    "    \"n_estimators\": 3200, \n",
    "    \"min_child_weight\": 1,\n",
    "    \"seed\": 42\n",
    "}\n",
    "#чутка подкрутил руками чтоб в 1 мин укладывалось"
   ]
  },
  {
   "cell_type": "markdown",
   "metadata": {},
   "source": [
    "### Проверка занания 1"
   ]
  },
  {
   "cell_type": "code",
   "execution_count": 8,
   "metadata": {},
   "outputs": [
    {
     "name": "stdout",
     "output_type": "stream",
     "text": [
      "0.782188224312\n",
      "CPU times: user 1min 1s, sys: 160 ms, total: 1min 1s\n",
      "Wall time: 1min 1s\n"
     ]
    }
   ],
   "source": [
    "%%time\n",
    "SCRIPT_DIR = os.path.dirname(os.path.realpath(\"xgboost_params_checker.py\"))\n",
    "\n",
    "\n",
    "def signal_handler(signum, frame):\n",
    "    raise Exception(\"Timed out!\")\n",
    "\n",
    "\n",
    "class Checker(object):\n",
    "    def __init__(self, data_path=SCRIPT_DIR + '/../seminar02/HR.csv'):\n",
    "        df = pd.read_csv(data_path)\n",
    "        target = 'left'\n",
    "        features = [c for c in df if c != target]\n",
    "        self.target = np.array(df[target])\n",
    "        self.data = np.array(df[features])\n",
    "\n",
    "    def check(self, params_path):\n",
    "        try:\n",
    "            with open(params_path, 'r') as f:\n",
    "                params = json.load(f)\n",
    "                signal.signal(signal.SIGALRM, signal_handler)\n",
    "                # Time limit на эту задачу 2 минуты\n",
    "                signal.alarm(120)\n",
    "                estimator = XGBClassifier(**params)\n",
    "                score = np.mean(cross_val_score(\n",
    "                    estimator, self.data, self.target,\n",
    "                    scoring='accuracy', \n",
    "                    cv=3\n",
    "                ))\n",
    "        except:\n",
    "            print(\"Unexpected error:\", sys.exc_info()[0])\n",
    "            score = None\n",
    "        \n",
    "        return score\n",
    "\n",
    "\n",
    "if __name__ == '__main__':\n",
    "    print(Checker().check(\"xgboost_matiiv.json\"))\n",
    "#     print(Checker().check(\"xgboost_params_example.json\"))\n"
   ]
  },
  {
   "cell_type": "markdown",
   "metadata": {},
   "source": [
    "### Часть 2\n",
    "\n",
    "Нужно реализовать градиентный бустинг для задачи классификации на наборе данных <b>HR.csv</b>. Код для проверки качества представлен в скрипте <b>gb_impl_checker.py</b>, а шаблон, от которого стоит отталкиваться, в скрипте <b>gb_impl_example.py</b>. Чекер вашего скрипта должен отработать за 1 минуту на машинке для проверки. Для сравнения на <b>gb_impl_example.py</b> чекер работает 10 секунд.\n",
    "\n",
    "Задание сдавать в форму https://goo.gl/forms/cfzYQ3jVnNjG2k1B3\n",
    "\n",
    "Так как нужно присылать файлы, а коды чекеров заранее выложены, то у вас будет только одна посылка."
   ]
  },
  {
   "cell_type": "code",
   "execution_count": 1,
   "metadata": {},
   "outputs": [],
   "source": [
    "import pandas as pd\n",
    "from sklearn.model_selection import cross_val_score\n",
    "import itertools\n",
    "from tqdm import tqdm\n",
    "PATH_TO_DATA=\"/Users/roman/DMIA/industry/seminar02/HR.csv\"\n",
    "\n",
    "data=pd.read_csv(PATH_TO_DATA)\n",
    "X,y=data.drop(\"left\",axis=1),data[\"left\"]"
   ]
  },
  {
   "cell_type": "code",
   "execution_count": 2,
   "metadata": {},
   "outputs": [],
   "source": [
    "from sklearn.base import BaseEstimator\n",
    "from sklearn.tree import DecisionTreeRegressor\n",
    "import numpy as np\n",
    "\n",
    "\n",
    "# Параметрами с которыми вы хотите обучать деревья\n",
    "TREE_PARAMS_DICT = {'max_depth': 1}\n",
    "# Параметр tau (learning_rate) для вашего GB\n",
    "TAU = 0.05\n",
    "\n",
    "\n",
    "class SimpleGB(BaseEstimator):\n",
    "    def __init__(self, tree_params_dict, iters, tau):\n",
    "        self.tree_params_dict = tree_params_dict\n",
    "        self.iters = iters\n",
    "        self.tau = tau\n",
    "        \n",
    "    def fit(self, X_data, y_data):\n",
    "        self.base_algo = DecisionTreeRegressor(**self.tree_params_dict,random_state=42).fit(X_data, y_data)\n",
    "        self.estimators = []\n",
    "        curr_pred = self.base_algo.predict(X_data)\n",
    "        for iter_num in range(self.iters):\n",
    "            # Нужно посчитать градиент функции потерь\n",
    "            grad=y_data/(1+np.exp(-y_data*curr_pred)) # TODO\n",
    "            # Нужно обучить DecisionTreeRegressor предсказывать антиградиент\n",
    "            # Не забудьте про self.tree_params_dict\n",
    "            algo = DecisionTreeRegressor(**self.tree_params_dict,random_state=42).fit(X_data, -grad) # TODO\n",
    "\n",
    "            self.estimators.append(algo)\n",
    "            # Обновите предсказания в каждой точке\n",
    "            curr_pred +=self.tau*algo.predict(X_data)  # TODO\n",
    "        return self\n",
    "    \n",
    "    def predict(self, X_data):\n",
    "        # Предсказание на данных\n",
    "        res = self.base_algo.predict(X_data)\n",
    "        for estimator in self.estimators:\n",
    "            res += self.tau * estimator.predict(X_data)\n",
    "        # Задача классификации, поэтому надо отдавать 0 и 1\n",
    "        return res > 0."
   ]
  },
  {
   "cell_type": "code",
   "execution_count": 4,
   "metadata": {},
   "outputs": [
    {
     "name": "stdout",
     "output_type": "stream",
     "text": [
      "0.654774088151\n",
      "CPU times: user 1.06 s, sys: 55.8 ms, total: 1.11 s\n",
      "Wall time: 1.17 s\n"
     ]
    }
   ],
   "source": [
    "%%time\n",
    "# Проверка\n",
    "algo = SimpleGB(tree_params_dict=TREE_PARAMS_DICT,iters=100,tau=TAU)\n",
    "print(np.mean(cross_val_score(algo, X, y, cv=3, scoring='accuracy')))"
   ]
  },
  {
   "cell_type": "markdown",
   "metadata": {},
   "source": [
    "#### Подбор параметров для SimpleGB"
   ]
  },
  {
   "cell_type": "code",
   "execution_count": 10,
   "metadata": {},
   "outputs": [],
   "source": [
    "TREE_PARAMS_DICT={\"max_depth\":[1,5,9],\n",
    "                  \"min_samples_split\":range(2,9),\n",
    "                  \"min_samples_leaf\":range(2,9),\n",
    "                  \"max_features\":[1,7,None],\n",
    "                  \"TAU\":np.linspace(0.5,1,5)\n",
    "                }"
   ]
  },
  {
   "cell_type": "code",
   "execution_count": 11,
   "metadata": {
    "scrolled": true
   },
   "outputs": [
    {
     "name": "stderr",
     "output_type": "stream",
     "text": [
      "2205it [00:00, 317586.63it/s]\n"
     ]
    }
   ],
   "source": [
    "#Долго\n",
    "res={}\n",
    "for i in tqdm(itertools.product(TREE_PARAMS_DICT[\"max_depth\"],\n",
    "                                TREE_PARAMS_DICT[\"min_samples_split\"],\n",
    "                                TREE_PARAMS_DICT[\"min_samples_leaf\"],\n",
    "                                TREE_PARAMS_DICT[\"max_features\"],\n",
    "                                TREE_PARAMS_DICT[\"TAU\"])):\n",
    "    tmp={\"max_depth\":i[0],\n",
    "        \"min_samples_split\":i[1],\n",
    "        \"min_samples_leaf\":i[2],\n",
    "        \"max_features\":i[3]}\n",
    "    algo = SimpleGB(tree_params_dict=tmp,iters=100,tau=i[4])\n",
    "#     accuracy=np.mean(cross_val_score(algo, X, y, cv=3, scoring='accuracy'))\n",
    "#     res[accuracy]=i"
   ]
  },
  {
   "cell_type": "code",
   "execution_count": 128,
   "metadata": {},
   "outputs": [
    {
     "data": {
      "text/plain": [
       "{0.65477408815096361: (9, 10, 10, None, 0.8666666666666667),\n",
       " 0.65484075481763027: (9, 10, 5, None, 0.8666666666666667)}"
      ]
     },
     "execution_count": 128,
     "metadata": {},
     "output_type": "execute_result"
    }
   ],
   "source": [
    "res[max(res)]"
   ]
  },
  {
   "cell_type": "markdown",
   "metadata": {},
   "source": [
    "### Проверка 2 задания"
   ]
  },
  {
   "cell_type": "code",
   "execution_count": 2,
   "metadata": {},
   "outputs": [
    {
     "name": "stdout",
     "output_type": "stream",
     "text": [
      "0.654774088151\n",
      "CPU times: user 2.77 s, sys: 10.9 ms, total: 2.78 s\n",
      "Wall time: 2.79 s\n"
     ]
    }
   ],
   "source": [
    "%%time\n",
    "from sklearn.model_selection import cross_val_score\n",
    "import numpy as np\n",
    "import os\n",
    "import sys\n",
    "import imp\n",
    "import signal\n",
    "import pandas as pd\n",
    "\n",
    "\n",
    "SCRIPT_DIR = os.path.dirname(os.path.realpath(\"gb_impl_checker.py\"))\n",
    "\n",
    "\n",
    "def signal_handler(signum, frame):\n",
    "    raise Exception(\"Timed out!\")\n",
    "\n",
    "\n",
    "class Checker(object):\n",
    "    def __init__(self, data_path=SCRIPT_DIR + '/../seminar02/HR.csv'):\n",
    "        df = pd.read_csv(data_path)\n",
    "        target = 'left'\n",
    "        features = [c for c in df if c != target]\n",
    "        self.target = np.array(df[target])\n",
    "        self.data = np.array(df[features])\n",
    "        self.application = 0\n",
    "\n",
    "    def check(self, script_path):\n",
    "        try:\n",
    "            signal.signal(signal.SIGALRM, signal_handler)\n",
    "            # Time limit на эту задачу 1 минута\n",
    "            signal.alarm(60)\n",
    "            gb_impl = imp.load_source('gb_impl_{}'.format(self.application), script_path)\n",
    "            self.application += 1\n",
    "            # Обучаться будет на 100 итерациях, чтобы одинаковый масштаб был\n",
    "            algo = gb_impl.SimpleGB(\n",
    "                tree_params_dict=gb_impl.TREE_PARAMS_DICT,\n",
    "                iters=100,\n",
    "                tau=gb_impl.TAU\n",
    "            )\n",
    "            return np.mean(cross_val_score(algo, self.data, self.target, cv=3, scoring='accuracy'))\n",
    "        except:\n",
    "            print(\"Unexpected error:\", sys.exc_info()[0])\n",
    "            return None\n",
    "\n",
    "\n",
    "if __name__ == '__main__':\n",
    "    print(Checker().check(SCRIPT_DIR + '/mygb_matiiv.py'))\n",
    "#     print(Checker().check(SCRIPT_DIR + '/gb_impl_example.py'))"
   ]
  },
  {
   "cell_type": "code",
   "execution_count": null,
   "metadata": {},
   "outputs": [],
   "source": []
  }
 ],
 "metadata": {
  "kernelspec": {
   "display_name": "Python 3",
   "language": "python",
   "name": "python3"
  },
  "language_info": {
   "codemirror_mode": {
    "name": "ipython",
    "version": 3
   },
   "file_extension": ".py",
   "mimetype": "text/x-python",
   "name": "python",
   "nbconvert_exporter": "python",
   "pygments_lexer": "ipython3",
   "version": "3.6.4"
  }
 },
 "nbformat": 4,
 "nbformat_minor": 2
}
