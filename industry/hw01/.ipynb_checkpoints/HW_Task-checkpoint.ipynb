{
 "cells": [
  {
   "cell_type": "markdown",
   "metadata": {},
   "source": [
    "### Входные данные\n",
    "\n",
    "У вас имеется поток данных (генератор data_stream). Поля это случайные величины - так сделано для упрощения генерации данных. Есть три поля (названы по уровню сложности задания)\n",
    "\n",
    "### Задание\n",
    "##### Мотивация:\n",
    "У вас есть куча временных рядов, вы хотите научиться предсказывать следующее значение по 1000 предыдущим. 1000 признаков окна это слишком много, однако вы решили заменить их 5ю: средним, дисперсией, минимумом, медианой и максимумом. Однако, все эти признаки надо подсчитать, причём хочется уметь это делать быстро (в течение часа)\n",
    "##### Для каждого поля нужно сделать следующее:\n",
    "\n",
    "1. Пробежаться по данным окном размера 1000 (окно сдвигается на 1, то есть следующее окно пересекается с предыдущим по 999 элементам).\n",
    "\n",
    "2. Для каждого окна посчитайте среднее значение поля и его дисперсию. Делайте yield этих значений, получая генератор tuple. \n",
    "\n",
    "3. Для каждого окна найдине минимум, медиану и максимум в нём. Делайте yield этих значений, получая генератор tuple. \n",
    "\n",
    "Ответом, который нужно будет засабмитить в гугл форму, является среднее значение tuple по получившемуся потоку, округлённое до 2го знака.\n",
    "\n",
    "### Замечания\n",
    "\n",
    "1. Обратите внимания как генерируются поля. Постарайтесь понять особенность каждого поля и как это можно использовать. Желательно, чтобы для каждого поля у вас было своё решение, максимально эффективно использующее знание об этом поле.\n",
    "2. Полезные библиотеки: itertools, numpy, collections + всё что найдёте в интернете и можно поставить через pip install\n",
    "3. **Медианой отсортированного массива arr считайте значение arr[len(arr) // 2]**\n",
    "\n",
    "\n",
    "\n",
    "Если измерять время работы функций временем работы функции example, то примерное время работы такое:\n",
    "Одновременно среднее, дисперсия - 1.17\n",
    "Одновременно минимум, максимум и медиана:easy - 0.87\n",
    "medium - 2.11\n",
    "nightmare - 2.85\n",
    "\n",
    "\n"
   ]
  },
  {
   "cell_type": "markdown",
   "metadata": {},
   "source": [
    "#### Генерация данных"
   ]
  },
  {
   "cell_type": "code",
   "execution_count": 3,
   "metadata": {
    "collapsed": true
   },
   "outputs": [],
   "source": [
    "from collections import namedtuple\n",
    "import random\n",
    "import numpy as np\n",
    "from tqdm import tqdm\n",
    "from decimal import *\n",
    "\n",
    "Record = namedtuple('Record', 'easy medium nightmare')\n",
    "\n",
    "def data_stream():\n",
    "    random_generator = random.Random(42)\n",
    "    easy = 0\n",
    "    for _ in range(10000000):\n",
    "        easy += random_generator.randint(0, 2) \n",
    "        medium = random_generator.randint(0, 256 - 1)\n",
    "        nightmare = random_generator.randint(0, 1000000000 - 1)\n",
    "        \n",
    "        yield Record(\n",
    "            easy=easy,\n",
    "            medium=medium,\n",
    "            nightmare=nightmare\n",
    "        )\n",
    "        \n",
    "def easy_stream():\n",
    "    for record in data_stream():\n",
    "        yield record.easy\n",
    "        \n",
    "def medium_stream():\n",
    "    for record in data_stream():\n",
    "        #yield record.medium\n",
    "        yield record.medium\n",
    "        \n",
    "def nightmare_stream():\n",
    "    for record in data_stream():\n",
    "        #yield record.nightmare\n",
    "        yield Decimal(record.nightmare)"
   ]
  },
  {
   "cell_type": "markdown",
   "metadata": {},
   "source": [
    "## easy"
   ]
  },
  {
   "cell_type": "code",
   "execution_count": 4,
   "metadata": {},
   "outputs": [
    {
     "name": "stderr",
     "output_type": "stream",
     "text": [
      "31516it [00:20, 1518.49it/s]"
     ]
    },
    {
     "ename": "KeyboardInterrupt",
     "evalue": "",
     "output_type": "error",
     "traceback": [
      "\u001b[0;31m---------------------------------------------------------------------------\u001b[0m",
      "\u001b[0;31mKeyboardInterrupt\u001b[0m                         Traceback (most recent call last)",
      "\u001b[0;32m<ipython-input-4-d4ddb236f53f>\u001b[0m in \u001b[0;36m<module>\u001b[0;34m()\u001b[0m\n\u001b[1;32m     12\u001b[0m     \u001b[0;32mif\u001b[0m \u001b[0mlen\u001b[0m\u001b[0;34m(\u001b[0m\u001b[0marr\u001b[0m\u001b[0;34m)\u001b[0m\u001b[0;34m==\u001b[0m\u001b[0;36m1000\u001b[0m\u001b[0;34m:\u001b[0m\u001b[0;34m\u001b[0m\u001b[0m\n\u001b[1;32m     13\u001b[0m         \u001b[0mmean\u001b[0m\u001b[0;34m.\u001b[0m\u001b[0mappend\u001b[0m\u001b[0;34m(\u001b[0m\u001b[0msum\u001b[0m\u001b[0;34m(\u001b[0m\u001b[0marr\u001b[0m\u001b[0;34m)\u001b[0m\u001b[0;34m/\u001b[0m\u001b[0mlen\u001b[0m\u001b[0;34m(\u001b[0m\u001b[0marr\u001b[0m\u001b[0;34m)\u001b[0m\u001b[0;34m)\u001b[0m\u001b[0;34m\u001b[0m\u001b[0m\n\u001b[0;32m---> 14\u001b[0;31m         \u001b[0mvar\u001b[0m\u001b[0;34m.\u001b[0m\u001b[0mappend\u001b[0m\u001b[0;34m(\u001b[0m\u001b[0msum\u001b[0m\u001b[0;34m(\u001b[0m\u001b[0;34m[\u001b[0m\u001b[0mi\u001b[0m\u001b[0;34m**\u001b[0m\u001b[0;36m2\u001b[0m\u001b[0;34m-\u001b[0m\u001b[0mmean\u001b[0m\u001b[0;34m[\u001b[0m\u001b[0;34m-\u001b[0m\u001b[0;36m1\u001b[0m\u001b[0;34m]\u001b[0m\u001b[0;34m**\u001b[0m\u001b[0;36m2\u001b[0m \u001b[0;32mfor\u001b[0m \u001b[0mi\u001b[0m \u001b[0;32min\u001b[0m \u001b[0marr\u001b[0m\u001b[0;34m]\u001b[0m\u001b[0;34m)\u001b[0m\u001b[0;34m/\u001b[0m\u001b[0mlen\u001b[0m\u001b[0;34m(\u001b[0m\u001b[0marr\u001b[0m\u001b[0;34m)\u001b[0m\u001b[0;34m)\u001b[0m\u001b[0;34m\u001b[0m\u001b[0m\n\u001b[0m\u001b[1;32m     15\u001b[0m         \u001b[0mMin\u001b[0m\u001b[0;34m.\u001b[0m\u001b[0mappend\u001b[0m\u001b[0;34m(\u001b[0m\u001b[0mmin\u001b[0m\u001b[0;34m(\u001b[0m\u001b[0marr\u001b[0m\u001b[0;34m)\u001b[0m\u001b[0;34m)\u001b[0m\u001b[0;34m\u001b[0m\u001b[0m\n\u001b[1;32m     16\u001b[0m         \u001b[0mMax\u001b[0m\u001b[0;34m.\u001b[0m\u001b[0mappend\u001b[0m\u001b[0;34m(\u001b[0m\u001b[0mmax\u001b[0m\u001b[0;34m(\u001b[0m\u001b[0marr\u001b[0m\u001b[0;34m)\u001b[0m\u001b[0;34m)\u001b[0m\u001b[0;34m\u001b[0m\u001b[0m\n",
      "\u001b[0;31mKeyboardInterrupt\u001b[0m: "
     ]
    },
    {
     "name": "stderr",
     "output_type": "stream",
     "text": [
      "\r",
      "31516it [00:40, 787.29it/s] "
     ]
    }
   ],
   "source": [
    "mean=[]\n",
    "var=[]\n",
    "Min=[]\n",
    "Max=[]\n",
    "median=[]\n",
    "\n",
    "arr=[]\n",
    "\n",
    "for i in tqdm(easy_stream()):\n",
    "    if len(arr)<=999:\n",
    "        arr.append(i)\n",
    "    if len(arr)==1000:\n",
    "        mean.append(sum(arr)/len(arr))\n",
    "        var.append(sum([i**2-mean[-1]**2 for i in arr])/len(arr))\n",
    "        Min.append(min(arr))\n",
    "        Max.append(max(arr))\n",
    "        median.append(sorted(arr)[len(arr)//2])\n",
    "    \n",
    "        arr=arr[1:]"
   ]
  },
  {
   "cell_type": "code",
   "execution_count": 3,
   "metadata": {},
   "outputs": [
    {
     "name": "stdout",
     "output_type": "stream",
     "text": [
      "4999675.27649\n",
      "83439.3366557\n",
      "4999175.79284\n",
      "5000174.7596\n",
      "4999675.77664\n"
     ]
    }
   ],
   "source": [
    "print(np.mean(mean))   #4999675.27649  \n",
    "print(np.mean(var))    #83439.3366557\n",
    "print(np.mean(Min))    #4999175.79284\n",
    "print(np.mean(Max))    #5000174.7596\n",
    "print(np.mean(median)) #4999675.77664\n",
    "#47min"
   ]
  },
  {
   "cell_type": "markdown",
   "metadata": {},
   "source": [
    "## medium"
   ]
  },
  {
   "cell_type": "code",
   "execution_count": 5,
   "metadata": {},
   "outputs": [
    {
     "name": "stderr",
     "output_type": "stream",
     "text": [
      "10000000it [2:54:45, 953.66it/s]\n"
     ]
    }
   ],
   "source": [
    "var=[]\n",
    "Min=[]\n",
    "Max=[]\n",
    "median=[]\n",
    "\n",
    "arr=[]\n",
    "\n",
    "for i in tqdm(medium_stream()):\n",
    "    if len(arr)<=999:\n",
    "        arr.append(i)\n",
    "    if len(arr)==1000:\n",
    "        mean.append(sum(arr)/len(arr))\n",
    "        var.append(sum([i**2-mean[-1]**2 for i in arr])/len(arr))\n",
    "        Min.append(min(arr))\n",
    "        Max.append(max(arr))\n",
    "        median.append(sorted(arr)[len(arr)//2])\n",
    "    \n",
    "        arr=arr[1:]"
   ]
  },
  {
   "cell_type": "code",
   "execution_count": 6,
   "metadata": {},
   "outputs": [
    {
     "name": "stdout",
     "output_type": "stream",
     "text": [
      "127.4817757623058239913159105\n",
      "5455.173897874811393658226457\n",
      "0.01928982705372266689442275283\n",
      "254.9790132034190215602538694\n",
      "127.6017204118691457276581931\n"
     ]
    }
   ],
   "source": [
    "print(np.mean(mean))      #127.481139971\n",
    "print(np.mean(var))       #5455.17389787\n",
    "print(np.mean(Min))       #0.0192898270537\n",
    "print(np.mean(Max))       #254.979013203\n",
    "print(np.mean(median))    #127.601720412\n",
    "#52min без Decimal"
   ]
  },
  {
   "cell_type": "markdown",
   "metadata": {},
   "source": [
    "## nightmare"
   ]
  },
  {
   "cell_type": "code",
   "execution_count": 62,
   "metadata": {},
   "outputs": [
    {
     "name": "stderr",
     "output_type": "stream",
     "text": [
      "10000000it [2:54:33, 954.81it/s]\n"
     ]
    }
   ],
   "source": [
    "# mean=[]\n",
    "# var=[]\n",
    "# Min=[]\n",
    "# Max=[]\n",
    "# median=[]\n",
    "\n",
    "# arr=[]\n",
    "\n",
    "# for i in tqdm(nightmare_stream()):\n",
    "#     if len(arr)<=999:\n",
    "#         arr.append(i)\n",
    "#     if len(arr)==1000:\n",
    "#         mean.append(np.mean(arr))\n",
    "#         var.append(np.var(arr))\n",
    "#         Min.append(min(arr))\n",
    "#         Max.append(max(arr))\n",
    "#         median.append(np.sort(arr)[len(arr)//2])\n",
    "    \n",
    "#         arr=arr[1:]\n",
    "        \n",
    "mean=[]\n",
    "var=[]\n",
    "Min=[]\n",
    "Max=[]\n",
    "median=[]\n",
    "\n",
    "arr=[]\n",
    "\n",
    "for i in tqdm(nightmare_stream()):\n",
    "    if len(arr)<=999:\n",
    "        arr.append(i)\n",
    "    if len(arr)==1000:\n",
    "        mean.append(sum(arr)/len(arr))\n",
    "        var.append(sum([i**2-mean[-1]**2 for i in arr])/len(arr))\n",
    "        Min.append(min(arr))\n",
    "        Max.append(max(arr))\n",
    "        median.append(sorted(arr)[len(arr)//2])\n",
    "    \n",
    "        arr=arr[1:]"
   ]
  },
  {
   "cell_type": "code",
   "execution_count": 63,
   "metadata": {},
   "outputs": [
    {
     "name": "stdout",
     "output_type": "stream",
     "text": [
      "499880345.8782329213688447476\n",
      "83228908564031114.58817403977\n",
      "1017512.293608431482305082278\n",
      "999017359.9740516077556147859\n",
      "500438415.6358754239548530898\n"
     ]
    }
   ],
   "source": [
    "print(np.mean(mean))    #499880345.878        #499880345.8782329213688447476\n",
    "print(np.mean(var))     #8.3228908564e+16     #83228908564031114.58817403977\n",
    "print(np.mean(Min))     #1017512.29361        #1017512.293608431482305082278\n",
    "print(np.mean(Max))     #999017359.974        #999017359.9740516077556147859\n",
    "print(np.mean(median))  #500438415.636        #500438415.6358754239548530898\n",
    "#3 hour Decimal"
   ]
  },
  {
   "cell_type": "markdown",
   "metadata": {},
   "source": [
    "### Ответы"
   ]
  },
  {
   "cell_type": "markdown",
   "metadata": {},
   "source": [
    "- easy\n",
    "    - Среднее=4999675.28\n",
    "    - Дисперсия=83439.34\n",
    "    - Минимум=4999175.79\n",
    "    - Медиана=5000174.76\n",
    "    - Максимум=4999675.78\n",
    "- medium\n",
    "    - Среднее=127.48\n",
    "    - Дисперсия=5455.17\n",
    "    - Минимум=0.02\n",
    "    - Медиана=254.98\n",
    "    - Максимум=127.6\n",
    "- nightmare\n",
    "    - Среднее=499880345.88\n",
    "    - Дисперсия=83228908564031114.59\n",
    "    - Минимум=1017512.29\n",
    "    - Медиана=999017359.97\n",
    "    - Максимум=500438415.64"
   ]
  }
 ],
 "metadata": {
  "kernelspec": {
   "display_name": "Python 3",
   "language": "python",
   "name": "python3"
  },
  "language_info": {
   "codemirror_mode": {
    "name": "ipython",
    "version": 3
   },
   "file_extension": ".py",
   "mimetype": "text/x-python",
   "name": "python",
   "nbconvert_exporter": "python",
   "pygments_lexer": "ipython3",
   "version": "3.6.3"
  }
 },
 "nbformat": 4,
 "nbformat_minor": 2
}
